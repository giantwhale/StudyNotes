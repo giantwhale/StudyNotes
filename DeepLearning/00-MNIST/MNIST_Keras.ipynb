{
 "cells": [
  {
   "cell_type": "markdown",
   "metadata": {},
   "source": [
    "**References**\n",
    "\n",
    "Jason Brownlee's blog post: https://machinelearningmastery.com/handwritten-digit-recognition-using-convolutional-neural-networks-python-keras/"
   ]
  },
  {
   "cell_type": "code",
   "execution_count": 6,
   "metadata": {},
   "outputs": [
    {
     "name": "stdout",
     "output_type": "stream",
     "text": [
      "python version: 3.4\n",
      "tensorflow version: 1.3.0\n",
      "keras version: 2.0.8\n"
     ]
    }
   ],
   "source": [
    "import sys\n",
    "pyversion = '{}.{}'.format(sys.version_info.major, sys.version_info.minor)\n",
    "print('python version: ' + pyversion)\n",
    "import keras\n",
    "import tensorflow as tf\n",
    "print(\"tensorflow version: \" + tf.__version__)\n",
    "from keras.datasets import mnist\n",
    "print('keras version: ' + keras.__version__)\n",
    "\n",
    "%matplotlib inline\n",
    "import matplotlib.pyplot as plt"
   ]
  },
  {
   "cell_type": "code",
   "execution_count": 7,
   "metadata": {},
   "outputs": [
    {
     "name": "stdout",
     "output_type": "stream",
     "text": [
      "(60000, 28, 28)\n",
      "(60000,)\n"
     ]
    },
    {
     "data": {
      "image/png": "[encoded data removed]",
      "text/plain": [
       "<matplotlib.figure.Figure at 0x7f929dc17c18>"
      ]
     },
     "metadata": {},
     "output_type": "display_data"
    }
   ],
   "source": [
    "(X_train, y_train), (X_test, y_test) = mnist.load_data()\n",
    "for i in range(4):\n",
    "    plt.subplot(141+i)\n",
    "    plt.imshow(X_train[i], cmap=plt.get_cmap('gray'))\n",
    "print(X_train.shape)\n",
    "print(y_train.shape)"
   ]
  },
  {
   "cell_type": "markdown",
   "metadata": {},
   "source": [
    "## Baseline Model with Multi-Layer Perceptrons"
   ]
  },
  {
   "cell_type": "code",
   "execution_count": 8,
   "metadata": {},
   "outputs": [],
   "source": [
    "import numpy\n",
    "from keras.models import Sequential\n",
    "from keras.layers import Dense\n",
    "from keras.layers import Dropout\n",
    "from keras.utils import np_utils\n",
    "seed = 7"
   ]
  },
  {
   "cell_type": "code",
   "execution_count": 9,
   "metadata": {},
   "outputs": [],
   "source": [
    "numpy.random.seed(seed)\n",
    "(X_train, y_train), (X_test, y_test) = mnist.load_data()"
   ]
  },
  {
   "cell_type": "code",
   "execution_count": 10,
   "metadata": {},
   "outputs": [],
   "source": [
    "# Flatten 28x28 images to a 784 vector for each image\n",
    "num_pixels = X_train.shape[1] * X_train.shape[2]\n",
    "X_train = X_train.reshape(X_train.shape[0], num_pixels).astype('float32')\n",
    "X_test = X_test.reshape(X_test.shape[0], num_pixels).astype('float32')\n",
    "\n",
    "# Normalize pixel values to 0. to 1.\n",
    "X_train /= 255.0\n",
    "X_test /= 255.0"
   ]
  },
  {
   "cell_type": "code",
   "execution_count": 11,
   "metadata": {},
   "outputs": [
    {
     "name": "stdout",
     "output_type": "stream",
     "text": [
      "(60000, 10)\n"
     ]
    }
   ],
   "source": [
    "# One-hot encodes the output\n",
    "y_train = np_utils.to_categorical(y_train)\n",
    "y_test = np_utils.to_categorical(y_test)\n",
    "num_classes = y_test.shape[1]\n",
    "print(y_train.shape)"
   ]
  },
  {
   "cell_type": "code",
   "execution_count": 12,
   "metadata": {},
   "outputs": [],
   "source": [
    "# Split the training and validation set\n",
    "idx = numpy.hstack([numpy.ones(10000), numpy.zeros(50000)])\n",
    "numpy.random.shuffle(idx)\n",
    "X_train, X_valid = X_train[idx==0, :], X_train[idx==1, :]\n",
    "y_train, y_valid = y_train[idx==0], y_train[idx==1]"
   ]
  },
  {
   "cell_type": "markdown",
   "metadata": {},
   "source": [
    "Now Define the Model. We use a simple neural network with one hidden layer with the same number of neurons as the inputs (784). A Rrectifier activation function is used for the neurons in the hidden layer. \n",
    "\n",
    "![OneLayerNN](https://github.com/giantwhale/StudyNotes/blob/master/DeepLearning/imgs/neural_net_one_layer_fully_connected.jpg?raw=true)"
   ]
  },
  {
   "cell_type": "code",
   "execution_count": 13,
   "metadata": {},
   "outputs": [],
   "source": [
    "def baseline_model():\n",
    "    model = Sequential()\n",
    "    model.add(Dense(num_pixels, # output has the same length as the input \n",
    "                    input_dim=num_pixels, \n",
    "                    kernel_initializer='normal', activation='relu'))\n",
    "    model.add(Dense(num_classes, \n",
    "                    kernel_initializer='normal', \n",
    "                    activation='softmax'))\n",
    "    model.compile(loss='categorical_crossentropy', optimizer='adam', \n",
    "                  metrics=['accuracy'])\n",
    "    return model"
   ]
  },
  {
   "cell_type": "code",
   "execution_count": 20,
   "metadata": {},
   "outputs": [
    {
     "name": "stdout",
     "output_type": "stream",
     "text": [
      "Train on 50000 samples, validate on 10000 samples\n",
      "Epoch 1/10\n",
      "2s - loss: 0.3102 - acc: 0.9115 - val_loss: 0.1561 - val_acc: 0.9554\n",
      "Epoch 2/10\n",
      "1s - loss: 0.1246 - acc: 0.9640 - val_loss: 0.1179 - val_acc: 0.9649\n",
      "Epoch 3/10\n",
      "1s - loss: 0.0807 - acc: 0.9763 - val_loss: 0.0888 - val_acc: 0.9747\n",
      "Epoch 4/10\n",
      "1s - loss: 0.0562 - acc: 0.9837 - val_loss: 0.0809 - val_acc: 0.9759\n",
      "Epoch 5/10\n",
      "1s - loss: 0.0400 - acc: 0.9890 - val_loss: 0.0757 - val_acc: 0.9785\n",
      "Epoch 6/10\n",
      "1s - loss: 0.0302 - acc: 0.9921 - val_loss: 0.0726 - val_acc: 0.9802\n",
      "Epoch 7/10\n",
      "1s - loss: 0.0229 - acc: 0.9941 - val_loss: 0.0689 - val_acc: 0.9811\n",
      "Epoch 8/10\n",
      "1s - loss: 0.0165 - acc: 0.9962 - val_loss: 0.0755 - val_acc: 0.9790\n",
      "Epoch 9/10\n",
      "1s - loss: 0.0134 - acc: 0.9972 - val_loss: 0.0645 - val_acc: 0.9824\n",
      "Epoch 10/10\n",
      "1s - loss: 0.0091 - acc: 0.9984 - val_loss: 0.0719 - val_acc: 0.9802\n"
     ]
    },
    {
     "data": {
      "text/plain": [
       "<keras.callbacks.History at 0x7f9299c47908>"
      ]
     },
     "execution_count": 20,
     "metadata": {},
     "output_type": "execute_result"
    }
   ],
   "source": [
    "model = baseline_model()\n",
    "model.fit(X_train, y_train, validation_data=(X_valid, y_valid), epochs=10,\n",
    "         batch_size=200, verbose=2)"
   ]
  },
  {
   "cell_type": "code",
   "execution_count": 21,
   "metadata": {},
   "outputs": [
    {
     "name": "stdout",
     "output_type": "stream",
     "text": [
      "Baseline Error: 1.85%\n"
     ]
    }
   ],
   "source": [
    "scores = model.evaluate(X_test, y_test, verbose=0)\n",
    "print(\"Baseline Error: {:.2f}%\".format(100 - scores[1] * 100))"
   ]
  },
  {
   "cell_type": "markdown",
   "metadata": {},
   "source": [
    "## Simple CNN\n",
    "\n",
    "References: https://keras.io/layers/convolutional/"
   ]
  },
  {
   "cell_type": "code",
   "execution_count": 27,
   "metadata": {},
   "outputs": [],
   "source": [
    "import numpy \n",
    "from keras.datasets import mnist\n",
    "from keras.models import Sequential\n",
    "from keras.layers import Dense\n",
    "from keras.layers import Dropout\n",
    "from keras.layers import Flatten\n",
    "from keras.layers.convolutional import Conv2D, MaxPooling2D\n",
    "from keras.utils import np_utils\n",
    "from keras import backend as K\n",
    "K.set_image_dim_ordering('th')\n",
    "seed = 7\n",
    "numpy.random.seed(seed)"
   ]
  },
  {
   "cell_type": "markdown",
   "metadata": {},
   "source": [
    "When using Convolutional Neural Network, we take into consideration the geometric location of each pixel. "
   ]
  },
  {
   "cell_type": "code",
   "execution_count": 28,
   "metadata": {},
   "outputs": [],
   "source": [
    "# load data\n",
    "(X_train, y_train), (X_test, y_test) = mnist.load_data()\n",
    "# reshape to be [samples][pixels][width][height]\n",
    "# Note: we are using gray scale here, so pixels is set to 1. For RGB colored\n",
    "#       images, we set pixels to 3.\n",
    "X_train = X_train.reshape(X_train.shape[0], 1, 28, 28).astype('float32')\n",
    "X_test = X_test.reshape(X_test.shape[0], 1, 28, 28).astype('float32')\n",
    "\n",
    "# Standarization\n",
    "X_train = X_train / 255\n",
    "X_test = X_test / 255\n",
    "# one hot encode outputs\n",
    "y_train = np_utils.to_categorical(y_train)\n",
    "y_test = np_utils.to_categorical(y_test)\n",
    "num_classes = y_test.shape[1]"
   ]
  },
  {
   "cell_type": "code",
   "execution_count": 29,
   "metadata": {},
   "outputs": [],
   "source": [
    "# Split the training and validation set\n",
    "idx = numpy.hstack([numpy.ones(10000), numpy.zeros(50000)])\n",
    "numpy.random.shuffle(idx)\n",
    "X_train, X_valid = X_train[idx==0, :], X_train[idx==1, :]\n",
    "y_train, y_valid = y_train[idx==0], y_train[idx==1]"
   ]
  },
  {
   "cell_type": "markdown",
   "metadata": {},
   "source": [
    "Next, we define our CNN model.\n",
    "\n",
    "1. The first layer is a conv layer with 32 feature maps, which with the size of 5x5 and a RELU activation. (Each **filter** is a 5x5 pad that we use to scan over the image. thus the output tensor has 32 layers as the last dimension).\n",
    "\n",
    "2. Next we define a **Max Pooling** layer.\n",
    "\n",
    "3. The next layer is a regularization layer using **Dropout** with rate 20%.\n",
    "\n",
    "4. Next is a layer that converts the 2D matrix data to a vector through the **Flatten** operation. \n",
    "\n",
    "5. Next a fully connected layer with 128 neurons and RELU activation\n",
    "\n",
    "6. Finally, the output layer."
   ]
  },
  {
   "cell_type": "code",
   "execution_count": 30,
   "metadata": {},
   "outputs": [],
   "source": [
    "def cnn_model():\n",
    "    model = Sequential()\n",
    "    model.add(Conv2D(filters=32, kernel_size=(5, 5), \n",
    "                     input_shape=(1, 28, 28), activation='relu'))\n",
    "    model.add(MaxPooling2D(pool_size=(2, 2)))\n",
    "    model.add(Dropout(0.2))\n",
    "    model.add(Flatten())\n",
    "    model.add(Dense(128, activation='relu'))\n",
    "    model.add(Dense(num_classes, activation='softmax'))\n",
    "    \n",
    "    model.compile(loss='categorical_crossentropy', optimizer='adam', metrics=['accuracy'])\n",
    "    return model"
   ]
  },
  {
   "cell_type": "code",
   "execution_count": 31,
   "metadata": {},
   "outputs": [
    {
     "name": "stdout",
     "output_type": "stream",
     "text": [
      "Train on 50000 samples, validate on 10000 samples\n",
      "Epoch 1/10\n",
      "9s - loss: 0.2729 - acc: 0.9225 - val_loss: 0.1030 - val_acc: 0.9706\n",
      "Epoch 2/10\n",
      "8s - loss: 0.0805 - acc: 0.9758 - val_loss: 0.0626 - val_acc: 0.9831\n",
      "Epoch 3/10\n",
      "8s - loss: 0.0533 - acc: 0.9837 - val_loss: 0.0533 - val_acc: 0.9842\n",
      "Epoch 4/10\n",
      "8s - loss: 0.0423 - acc: 0.9872 - val_loss: 0.0462 - val_acc: 0.9868\n",
      "Epoch 5/10\n",
      "8s - loss: 0.0344 - acc: 0.9888 - val_loss: 0.0432 - val_acc: 0.9868\n",
      "Epoch 6/10\n",
      "8s - loss: 0.0287 - acc: 0.9907 - val_loss: 0.0417 - val_acc: 0.9877\n",
      "Epoch 7/10\n",
      "8s - loss: 0.0224 - acc: 0.9930 - val_loss: 0.0418 - val_acc: 0.9883\n",
      "Epoch 8/10\n",
      "8s - loss: 0.0195 - acc: 0.9936 - val_loss: 0.0432 - val_acc: 0.9879\n",
      "Epoch 9/10\n",
      "8s - loss: 0.0162 - acc: 0.9950 - val_loss: 0.0376 - val_acc: 0.9889\n",
      "Epoch 10/10\n",
      "8s - loss: 0.0145 - acc: 0.9954 - val_loss: 0.0400 - val_acc: 0.9887\n"
     ]
    },
    {
     "data": {
      "text/plain": [
       "<keras.callbacks.History at 0x7f929b8bad30>"
      ]
     },
     "execution_count": 31,
     "metadata": {},
     "output_type": "execute_result"
    }
   ],
   "source": [
    "model = cnn_model()\n",
    "model.fit(X_train, y_train, validation_data=(X_valid, y_valid), \n",
    "          epochs=10, batch_size=200, verbose=2)"
   ]
  },
  {
   "cell_type": "markdown",
   "metadata": {},
   "source": [
    "## Larger Convolutional Neural Network for MNIST"
   ]
  },
  {
   "cell_type": "code",
   "execution_count": 32,
   "metadata": {},
   "outputs": [],
   "source": [
    "seed = 7\n",
    "numpy.random.seed(seed)"
   ]
  },
  {
   "cell_type": "code",
   "execution_count": 33,
   "metadata": {},
   "outputs": [],
   "source": [
    "def larger_model():\n",
    "    model = Sequential()\n",
    "    model.add(Conv2D(30, (5, 5), input_shape=(1, 28, 28), activation='relu'))\n",
    "    model.add(MaxPooling2D(pool_size=(2, 2)))\n",
    "    model.add(Conv2D(15, (3, 3), activation='relu'))\n",
    "    model.add(MaxPooling2D(pool_size=(2, 2)))\n",
    "    model.add(Dropout(0.2))\n",
    "    model.add(Flatten())\n",
    "    model.add(Dense(128, activation='relu'))\n",
    "    model.add(Dense(50, activation='relu'))\n",
    "    model.add(Dense(num_classes, activation='softmax'))\n",
    "    model.compile(loss='categorical_crossentropy', optimizer='adam', metrics=['accuracy'])\n",
    "    return model"
   ]
  },
  {
   "cell_type": "code",
   "execution_count": 34,
   "metadata": {},
   "outputs": [
    {
     "name": "stdout",
     "output_type": "stream",
     "text": [
      "Train on 50000 samples, validate on 10000 samples\n",
      "Epoch 1/10\n",
      "50000/50000 [==============================] - 10s - loss: 0.4419 - acc: 0.8628 - val_loss: 0.0993 - val_acc: 0.9741\n",
      "Epoch 2/10\n",
      "50000/50000 [==============================] - 9s - loss: 0.1026 - acc: 0.9685 - val_loss: 0.0646 - val_acc: 0.9823\n",
      "Epoch 3/10\n",
      "50000/50000 [==============================] - 9s - loss: 0.0755 - acc: 0.9765 - val_loss: 0.0529 - val_acc: 0.9857\n",
      "Epoch 4/10\n",
      "50000/50000 [==============================] - 9s - loss: 0.0626 - acc: 0.9809 - val_loss: 0.0461 - val_acc: 0.9869\n",
      "Epoch 5/10\n",
      "50000/50000 [==============================] - 9s - loss: 0.0532 - acc: 0.9830 - val_loss: 0.0448 - val_acc: 0.9871\n",
      "Epoch 6/10\n",
      "50000/50000 [==============================] - 9s - loss: 0.0466 - acc: 0.9857 - val_loss: 0.0430 - val_acc: 0.9877\n",
      "Epoch 7/10\n",
      "50000/50000 [==============================] - 9s - loss: 0.0408 - acc: 0.9873 - val_loss: 0.0389 - val_acc: 0.9882\n",
      "Epoch 8/10\n",
      "50000/50000 [==============================] - 9s - loss: 0.0378 - acc: 0.9874 - val_loss: 0.0330 - val_acc: 0.9903\n",
      "Epoch 9/10\n",
      "50000/50000 [==============================] - 9s - loss: 0.0350 - acc: 0.9880 - val_loss: 0.0332 - val_acc: 0.9907\n",
      "Epoch 10/10\n",
      "50000/50000 [==============================] - 9s - loss: 0.0326 - acc: 0.9892 - val_loss: 0.0332 - val_acc: 0.9901\n",
      "Large CNN Error: 0.87%\n"
     ]
    }
   ],
   "source": [
    "model = larger_model()\n",
    "model.fit(X_train, y_train, validation_data=(X_valid, y_valid), epochs=10, batch_size=200)\n",
    "scores = model.evaluate(X_test, y_test, verbose=0)\n",
    "print(\"Large CNN Error: %.2f%%\" % (100-scores[1]*100))"
   ]
  },
  {
   "cell_type": "markdown",
   "metadata": {},
   "source": [
    "## Debug Model"
   ]
  },
  {
   "cell_type": "code",
   "execution_count": 35,
   "metadata": {},
   "outputs": [],
   "source": [
    "    model = Sequential()\n",
    "    model.add(Conv2D(filters=32, kernel_size=(5, 5), \n",
    "                     input_shape=(1, 28, 28), activation='relu'))\n",
    "    model.add(MaxPooling2D(pool_size=(2, 2)))\n",
    "    model.add(Dropout(0.2))\n",
    "    model.add(Flatten())\n",
    "    model.add(Dense(128, activation='relu'))\n",
    "    model.add(Dense(num_classes, activation='softmax'))"
   ]
  },
  {
   "cell_type": "code",
   "execution_count": 64,
   "metadata": {},
   "outputs": [
    {
     "name": "stdout",
     "output_type": "stream",
     "text": [
      "Tensor(\"input_25:0\", shape=(?, 1, 28, 28), dtype=float32)\n",
      "Tensor(\"conv2d_52/add:0\", shape=(?, 32, 24, 24), dtype=float32)\n",
      "Tensor(\"conv2d_53/add:0\", shape=(?, 32, 28, 28), dtype=float32)\n",
      "Tensor(\"max_pooling2d_27/transpose_1:0\", shape=(?, 32, 12, 12), dtype=float32)\n",
      "Tensor(\"dropout_22/cond/Merge:0\", shape=(?, 32, 12, 12), dtype=float32)\n",
      "Tensor(\"flatten_20/Reshape:0\", shape=(?, ?), dtype=float32)\n"
     ]
    }
   ],
   "source": [
    "from keras.layers import Input\n",
    "\n",
    "x = Input(X_train.shape[1:])\n",
    "print(x)\n",
    "\n",
    "conv1 = Conv2D(filters=32, kernel_size=(5, 5))(x)\n",
    "print(conv1)\n",
    "\n",
    "conv1a = Conv2D(filters=32, kernel_size=(5, 5), padding='same')(x)\n",
    "print(conv1a)\n",
    "\n",
    "maxpooled = MaxPooling2D(pool_size=(2, 2))(conv1)\n",
    "print(maxpooled)\n",
    "\n",
    "dropped = Dropout(0.2)(maxpooled)\n",
    "print(dropped)\n",
    "\n",
    "flattened = Flatten()(dropped)\n",
    "print(flattened)"
   ]
  },
  {
   "cell_type": "markdown",
   "metadata": {},
   "source": [
    "## Model Visualization"
   ]
  },
  {
   "cell_type": "code",
   "execution_count": 16,
   "metadata": {},
   "outputs": [
    {
     "data": {
      "image/png": "[encoded data removed]",
      "text/plain": [
       "<IPython.core.display.Image object>"
      ]
     },
     "execution_count": 16,
     "metadata": {},
     "output_type": "execute_result"
    }
   ],
   "source": [
    "from keras.utils import plot_model\n",
    "model = cnn_model()\n",
    "plot_model(model, to_file='model.png')\n",
    "\n",
    "from IPython.display import Image\n",
    "Image(filename='model.png') "
   ]
  }
 ],
 "metadata": {
  "kernelspec": {
   "display_name": "Python 3",
   "language": "python",
   "name": "python3"
  },
  "language_info": {
   "codemirror_mode": {
    "name": "ipython",
    "version": 3
   },
   "file_extension": ".py",
   "mimetype": "text/x-python",
   "name": "python",
   "nbconvert_exporter": "python",
   "pygments_lexer": "ipython3",
   "version": "3.4.3"
  }
 },
 "nbformat": 4,
 "nbformat_minor": 2
}
